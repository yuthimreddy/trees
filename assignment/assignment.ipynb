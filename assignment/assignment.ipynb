{
 "cells": [
  {
   "cell_type": "markdown",
   "metadata": {},
   "source": [
    "# Assignment: Trees\n",
    "Do three questions."
   ]
  },
  {
   "cell_type": "markdown",
   "metadata": {},
   "source": [
    "**Q1.** Please answer the following questions in your own words.\n",
    "\n",
    "1. How are trees constructed?\n",
    "   \n",
    "   Trees are built by splitting the dataset by features, which can then be used to predict outcomes by following a series of decisions/requirements. Trees consist of stepping stones/blocks called nodes. The starting node, or known as the root node, encompasses the entire dataset. The dataset features make up the internal nodes. The endpoints of nodes are referred to as leaves, which are the final output of the previous nodes/decisions. \n",
    "\n",
    "2. How do trees handle non-linear relationships between variables? Compare this to linear models. \n",
    "   \n",
    "   Trees are used for mapping non-linear data, since there's no relationship between each node and the outcomes which come with. Trees work by splitting the data into subsets based on the features values and can demonstrate the relations/interactions between variables in an easily comprehensive manner. Linear models are better for variables which demonstrate linearity which can illustrate the differences in distance from each feature compared to the target variable. \n",
    "\n",
    "3. Why is the Gini a good loss function for categorical target variables? \n",
    "   \n",
    "   Gini is helpful as it measures the likelihood of an element being misclassified. A lower Gini index/score indicates that the node hosts elements of similar class which is what we want as we hope our model is effectively splitting data based off the target variable.\n",
    "\n",
    "4. Why do trees tend to overfit, and how can this tendency be constrained? \n",
    "   \n",
    "   Decision trees can grow to be too complex and overfit and oversized as they usually include features that may be irrelevant. Decision trees often learn the noise and other irrelevant features that make it harder to apply towards newer datasets. Too many splits/nodes can result in overfitting as well, as there are too many splits specific to the training data given. To mitigate this, we can use pruning to reduce the size of the decision tree by removing parts which are seemingly irrelevant or not helpful in predicting target variables.\n",
    "\n",
    "5. True or false, and explain: Trees only really perform well in situations with lots of categorical variables as features/covariates. \n",
    "   \n",
    "   False: decision trees can perform well with both categorical and numeric features. Decision trees can work with numerical data by finding the most optimal split point based on certain threshold values, in contrast to categorical variables which split based on categories.\n",
    "\n",
    "6. Why don't most versions of classification/regression tree concept allow for more than two branches after a split?\n",
    "   \n",
    "   Splitting more than twice can lead to overfitting, as the splits may be too specific towards the data, whereas binary trees split more gradually which can help generalize the tree better towards new data. Having more than two branches also means that the tree model would have to be considering an additional level of combinations of groups which can be computationally expensive.\n",
    "\n",
    "\n",
    "7. What are some heuristic ways you can examine a tree and decide whether it is probably over- or under-fitting?\n",
    "   \n",
    "   Looking at the tree, we can gauge its fit based on how many branches and nodes are available. A high number of levels may be a sign of overfitting as there are many levels indicating a higher depth. Shallow trees with very little branches/leaves can be indicative of an under-fitting model that could be more specific with its categorization.\n"
   ]
  },
  {
   "cell_type": "markdown",
   "metadata": {},
   "source": [
    "**Q2.** This is a case study on regression and classification trees.\n",
    "\n",
    "1. Load `./data/cars_hw.csv`. How many observations and features/covariates/variables? What are the available variables? Take a look at the first few rows of data.\n",
    "\n",
    "2. For the categorical variables `Make`, `Color`, `Body_type`, `No_of_Owners`, `Fuel_Type`, `Transmission`, and `Transmission_Type`, create dummy/one-hot-encoded representations. For numeric variables, we'll use `Mileage_Run`, `Make_Year`, and `Seating_Capacity`. Our target variable will be `Price`. Make a train-test split of your data.\n",
    "\n",
    "3. From `sklearn.tree`, import the `DecisionTreeRegressor` and `plot_tree`. Use a train-test split to iterate over possible values for `min_samples_leaf`, computing the $R^2$ for each value between 1 and 25. What choice achieves the highest $R^2$ on the test data?\n",
    "\n",
    "4. For the optimal `min_samples_leaf` from 3, regress price on the rest of the features/covariates using the training data. What is your $R^2$ and RMSE on the test set? Plot the dendrogram. Plot the residuals. Is the density of residuals symmetric and centered around 0?\n",
    "\n",
    "4. Run a linear regression of price on the same variables. Which model -- regression tree or linear regression -- performs better on the test set? Why?\n",
    "\n",
    "5. Predict prices using both your tree and your linear model, and make a scatter plot of their values. Describe what you see. "
   ]
  },
  {
   "cell_type": "markdown",
   "metadata": {},
   "source": [
    "**Q3.** This is a case study about classification and regression trees.\n",
    "\n",
    "1. Load the `Breast Cancer METABRIC.csv` dataset. How many observations and variables does it contain? Print out the first few rows of data.\n",
    "\n",
    "2.  We'll use a consistent set of feature/explanatory variables. For numeric variables, we'll include `Tumor Size`, `Lymph nodes examined positive`, `Age at Diagnosis`. For categorical variables, we'll include `Tumor Stage`, `Chemotherapy`, and `Cancer Type Detailed`. One-hot-encode the categorical variables and concatenate them with the numeric variables into a feature/covariate matrix, $X$.\n",
    "\n",
    "3. Let's predict `Overall Survival Status` given the features/covariates $X$. There are 528 missing values, unfortunately: Either drop those rows from your data or add them as a category to predict. Constrain the minimum samples per leaf to 10. Print a dendrogram of the tree. Print a confusion matrix of the algorithm's performance. What is the accuracy? \n",
    "\n",
    "4. For your model in part three, compute three statistics:\n",
    "    - The **true positive rate** or **sensitivity**:\n",
    "        $$\n",
    "        TPR = \\dfrac{TP}{TP+FN}\n",
    "        $$\n",
    "    - The **true negative rate** or **specificity**:\n",
    "        $$\n",
    "        TNR = \\dfrac{TN}{TN+FP}\n",
    "        $$\n",
    "    Does your model tend to perform better with respect to one of these metrics?\n",
    "\n",
    "5. Let's predict `Overall Survival (Months)` given the features/covariates $X$. Use the train/test split to pick the optimal `min_samples_leaf` value that gives the highest $R^2$ on the test set (it's about 110). What is the $R^2$? Plot the test values against the predicted values. How do you feel about this model for clinical purposes?"
   ]
  },
  {
   "cell_type": "markdown",
   "metadata": {},
   "source": [
    "**Q4.** This is a case study about trees using bond rating data. This is a dataset about bond ratings for different companies, alongside a bunch of business statistics and other data. Companies often have multiple reviews at different dates. We want to predict the bond rating (AAA, AA, A, BBB, BB, B, ..., C, D). Do business fundamentals predict the company's rating?\n",
    "\n",
    "1. Load the `./data/corporate_ratings.csv` dataset. How many observations and variables does it contain? Print out the first few rows of data.\n",
    "\n",
    "2.  Plot a histogram of the `ratings` variable. It turns out that the gradations of AAA/AA/A and BBB/BB/B and so on make it hard to get good results with trees. Collapse all AAA/AA/A ratings into just A, and similarly for B and C.\n",
    "\n",
    "3. Use all of the variables **except** Rating, Date, Name, Symbol, and Rating Agency Name. To include Sector, make a dummy/one-hot-encoded representation and include it in your features/covariates. Collect the relevant variables into a data matrix $X$. \n",
    "\n",
    "4. Do a train/test split of the data and use a decision tree classifier to predict the bond rating. Including a min_samples_leaf constraint can raise the accuracy and speed up computation time. Print a confusion matrix and the accuracy of your model. How well do you predict the different bond ratings?\n",
    "\n",
    "5. If you include the rating agency as a feature/covariate/predictor variable, do the results change? How do you interpret this?"
   ]
  },
  {
   "cell_type": "markdown",
   "metadata": {},
   "source": [
    "**Q5.** This is a case study about detecting fraud using classification trees. The goal is to predict the `class` variable, which is 0 for non-fraud and 1 for fraud.\n",
    "\n",
    "1. Open `./data/creditcard_fraud.csv`. Print the number of observations and variables, and look at the first few rows of data. The variables are already normalized and de-identified, and are just called things like `V8` to protect the privacy of the clients.\n",
    "\n",
    "2. Print a table of counts for the `class` variable and make a histogram. What percentage of transactions are fraudulent?\n",
    "\n",
    "3. Drop `Time` and make a decision tree classifier to predict fraud. Print a confusion table and compute the accuracy. This is a serious **class imbalance** problem: The minority class is so small that essentially predicting 0's for all cases will achieve an extremely high accuracy. There are over-sampling techniques to deal with this issue, but we don't have time to cover them in class.\n",
    "\n",
    "4. Imagine that you block every transaction in the test set labelled as fraudulent. How much money is (1) saved that should be saved, (2) lost to fraud anyway, (3) withheld in error from customers? Does implementing this anti-fraud system seem like a good idea, or not? Why?\n",
    "\n",
    "5. Instead of predicting fraud, predict loss: Multiple the `Class` variable times the `Amount` variable, and call it `Loss`. Predict it using a decision tree regressor (making sure to drop Class, Time, and Loss from the features/covariates/predictors). What $R^2$ and RMSE do you get? Make a scatterplot of the predicted values on the test group versus the actual test values. Do you notice any interesting patterns? How could you use this algorithm to decide which transactions to block, and why?\n"
   ]
  },
  {
   "cell_type": "markdown",
   "metadata": {
    "vscode": {
     "languageId": "plaintext"
    }
   },
   "source": [
    "**Q6.** Show that any decision tree is equivalent to a linear regression on a set of dummy variables that represent the optimal splits in the tree. \n",
    "\n",
    "Hint: You can think of CART as partitioning the feature space into a set of sets $\\{S_1, S_2, ..., S_K\\}$, and then predicting the average for all of the observations in each set $S_k$, $m_k$:\n",
    "$$\n",
    "\\hat{y}(x) = \\sum_{k=1}^K \\mathbb{I}\\{ x \\text{ is in } S_k \\} m_k\n",
    "$$\n",
    "where $\\mathbb{I} \\{ P(x,k)\\}$ takes the value 1 if the proposition $P(x,k)$ is true and 0 otherwise. Now, doesn't that look like least-squares regression on a set of dummy/one-hot-encoded variables?\n",
    "\n",
    "Conversely, can any linear regression be represented by a tree?"
   ]
  }
 ],
 "metadata": {
  "kernelspec": {
   "display_name": "base",
   "language": "python",
   "name": "python3"
  },
  "language_info": {
   "codemirror_mode": {
    "name": "ipython",
    "version": 3
   },
   "file_extension": ".py",
   "mimetype": "text/x-python",
   "name": "python",
   "nbconvert_exporter": "python",
   "pygments_lexer": "ipython3",
   "version": "3.12.2"
  }
 },
 "nbformat": 4,
 "nbformat_minor": 2
}
